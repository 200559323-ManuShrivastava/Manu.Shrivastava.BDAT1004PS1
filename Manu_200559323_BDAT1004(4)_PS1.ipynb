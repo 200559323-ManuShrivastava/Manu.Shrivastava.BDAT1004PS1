{
 "cells": [
  {
   "cell_type": "code",
   "execution_count": null,
   "id": "82892871-dda3-4346-879a-744ec1468415",
   "metadata": {},
   "outputs": [],
   "source": [
    "#Q1 - Check data types of given inputs.\n",
    "public class DPASSIGN1\n",
    "{\n",
    "    public static void Main()\n",
    "    {\n",
    "        # Data type of 5\n",
    "        Console.WriteLine(5.GetType());\n",
    "\n",
    "        # Data type of 5.0\n",
    "        Console.WriteLine((5.0).GetType());\n",
    "\n",
    "        # Data type of 5>1\n",
    "        Console.WriteLine((5 > 1).GetType());\n",
    "\n",
    "        # Data type of '5'\n",
    "        Console.WriteLine('5'.GetType());\n",
    "\n",
    "        # Data type of '5'*2\n",
    "        Console.WriteLine(('5' * 2).GetType());\n",
    "\n",
    "        # Data type of \"5\"+\"2\"\n",
    "        Console.WriteLine((\"5\" + \"2\").GetType());\n",
    "\n",
    "        # Data type of 5%2\n",
    "        Console.WriteLine((5 % 2).GetType());\n",
    "\n",
    "        # Data type of {5,2,1}\n",
    "        int[] array = new int[] { 5, 2, 1 };\n",
    "        Console.WriteLine(array.GetType());\n",
    "\n",
    "        # Data type of 5==3\n",
    "        Console.WriteLine((5 == 3).GetType());\n",
    "\n",
    "        # Data type of PI\n",
    "        Console.WriteLine(Math.PI.GetType());  \n",
    "\n",
    "    }\n",
    "}"
   ]
  },
  {
   "cell_type": "code",
   "execution_count": null,
   "id": "3e63cb9a-01ec-458c-a50d-2700ecdd9cd3",
   "metadata": {},
   "outputs": [],
   "source": [
    "#Q1 - OUTPUT\n",
    "System.Int32\n",
    "System.Double\n",
    "System.Boolean\n",
    "System.Char\n",
    "System.Int32\n",
    "System.String\n",
    "System.Int32\n",
    "System.Int32[]\n",
    "System.Boolean\n",
    "System.Double"
   ]
  },
  {
   "cell_type": "code",
   "execution_count": null,
   "id": "9500e0e2-120d-4890-b53b-5eb666c23b78",
   "metadata": {},
   "outputs": [],
   "source": [
    "#Q2 - GIVEN QUESTION TO PERFORM 4 TASKS.\n",
    "\n",
    "public class DPASSIGN1\n",
    "{\n",
    "    public static void Main()\n",
    "    { \n",
    "    string a = \"Supercalifragilisticexpialidocious\";\n",
    "    #Question a: Length of given string.\n",
    "    Console.WriteLine(\"Length of the given string is : \"+a.Length,\"\\n\");\n",
    "\n",
    "    #Question b: Does 'Supercalifragilisticexpialidocious' contain 'ice' as a substring?\n",
    "    if (a.Contains(\"ice\"))\n",
    "        Console.WriteLine(\"Yes, String Contains given substring\",\"\\n\");\n",
    "    else\n",
    "        Console.WriteLine(\"No, String does not contain the substring\");\n",
    "\n",
    "    #Question c: Which of the following words is the longest: Supercalifragilisticexpialidocious, Honorificabilitudinitatibus, or Bababadalgharaghtakamminarronnkonn\n",
    "    string str1 = \"Supercalifragilisticexpialidocious\";\n",
    "    string str2 = \"Honorificabilitudinitatibus\";\n",
    "    string str3 = \"Bababadalgharaghtakamminarronnkonn\";\n",
    "\n",
    "    if (str1.Length > str2.Length)\n",
    "        if (str1.Length > str3.Length)\n",
    "            Console.WriteLine($\"{str1} is the longest string.\");\n",
    "        else\n",
    "            Console.WriteLine($\"{str3} is the longest string.\");\n",
    "    else if (str2.Length > str3.Length)\n",
    "        Console.WriteLine($\"{str2} is the longest string.\");\n",
    "    else\n",
    "        Console.WriteLine($\"{str3} is the longest string.\");\n",
    "\n",
    "\n",
    "        # Question d: Sort string array alphabetically.\n",
    "        # Given names arrray = \"Berlioz\",\"Borodin\",\"Brian\",\"Bartok\",\"Bellini\",\"Buxtehude\",\"Bernstein\"\n",
    "        Console.WriteLine(\"Finally to Last part of 2nd Ques of 1st Assign: \"+\"\\n\");\n",
    "        Console.WriteLine(\"Sorting the given names : \" + \"\\n\");\n",
    "        string[] arr1 = {\"Berlioz\",\"Borodin\",\"Brian\",\"Bartok\",\"Bellini\",\"Buxtehude\",\"Bernstein\"};\n",
    "        arr1 = arr1.OrderBy(x => x).ToArray();\n",
    "        for (int i = 0; i < arr1.Length; i++)\n",
    "        {\n",
    "            Console.WriteLine(arr1[i]);\n",
    "        }\n",
    "    }\n",
    "}"
   ]
  },
  {
   "cell_type": "code",
   "execution_count": null,
   "id": "9f5c28bf-2f17-4617-85cd-5f5ff03b2228",
   "metadata": {},
   "outputs": [],
   "source": [
    "#Q2 - OUTPUT\n",
    "Length of the given string is : 34\n",
    "Yes, String Contains given substring\n",
    "Bababadalgharaghtakamminarronnkonn is the longest string.\n",
    "Finally to Last part of 2nd Ques of 1st Assign:\n",
    "\n",
    "Sorting the given names :\n",
    "\n",
    "Bartok\n",
    "Bellini\n",
    "Berlioz\n",
    "Bernstein\n",
    "Borodin\n",
    "Brian\n",
    "Buxtehude"
   ]
  },
  {
   "cell_type": "code",
   "execution_count": null,
   "id": "86027be9-ccee-4c2f-a020-be0f1d6b0189",
   "metadata": {},
   "outputs": [],
   "source": [
    "#Q3 Program to find triangle's area based on the length of a side\n",
    "\n",
    "public class DPASSIGN1\n",
    "{\n",
    "   \n",
    "    public static double triangleArea(int a, int b, int c)\n",
    "    {\n",
    "        double s = (a + b + c) / 2;\n",
    "        return Math.Sqrt(s * (s - a) * (s - b) * (s - c));\n",
    "    }\n",
    "    public static void Main()\n",
    "    {\n",
    "        Console.WriteLine(\"Please enter 3 values as the length of each side of triangle.\");\n",
    "        Console.Write(\"a = \");\n",
    "        int a = int.Parse(Console.ReadLine());\n",
    "        Console.Write(\"b = \");\n",
    "        int b = int.Parse(Console.ReadLine());\n",
    "        Console.Write(\"c = \");\n",
    "        int c = int.Parse(Console.ReadLine());\n",
    "\n",
    "        double answer = triangleArea(a, b, c);\n",
    "        Console.WriteLine(\"The area of triangle is : \"+answer);\n",
    "    }\n",
    "\n",
    "    \n",
    "}"
   ]
  },
  {
   "cell_type": "code",
   "execution_count": null,
   "id": "3b2f2af9-6be2-4985-9409-61ceb38798fc",
   "metadata": {},
   "outputs": [],
   "source": [
    "#Q3 - OUTPUT\n",
    "Please enter 3 values as the length of each side of triangle.\n",
    "a = 2\n",
    "b = 2\n",
    "c = 2\n",
    "The area of triangle is : 1.7320508075688772"
   ]
  },
  {
   "cell_type": "code",
   "execution_count": null,
   "id": "89811924-452a-431c-9482-34eec3b7e9d2",
   "metadata": {},
   "outputs": [],
   "source": [
    "#Q4 - program in C# Sharp to separate odd and even integers in separate arrays.\n",
    "using System;\n",
    "public class SeperationFunction\n",
    "{\n",
    "    public static void Main()\n",
    "    {\n",
    "        int i, j = 0, k = 0, n;\n",
    "\n",
    "\n",
    "        Console.Write(\"\\n\\nProgram to separate odd and even integers in separate arrays:\\n\");\n",
    "        Console.Write(\"------------------------------------------------------\\n\");\n",
    "\n",
    "        Console.Write(\"Input the number of elements to be stored in the array :\");\n",
    "        n = Convert.ToInt32(Console.ReadLine());\n",
    "        int[] arr1 = new int[n];\n",
    "        int[] arr2 = new int[n];\n",
    "        int[] arr3 = new int[n];\n",
    "\n",
    "        Console.Write(\"Kindly enter {0} elements in the array :\\n\", n);\n",
    "        for (i = 0; i < n; i++)\n",
    "        {\n",
    "            Console.Write(\"element - {0} : \", i);\n",
    "            arr1[i] = int.Parse(Console.ReadLine());\n",
    "        }\n",
    "\n",
    "        for (i = 0; i < n; i++)\n",
    "        {\n",
    "            if (arr1[i] % 2 == 0)\n",
    "            {\n",
    "                arr2[j] = arr1[i];\n",
    "                j++;\n",
    "            }\n",
    "            else\n",
    "            {\n",
    "                arr3[k] = arr1[i];\n",
    "                k++;\n",
    "            }\n",
    "        }\n",
    "\n",
    "        Console.Write(\"\\nThe Even elements are : \\n\");\n",
    "        for (i = 0; i < j; i++)\n",
    "        {\n",
    "            Console.Write(\"{0} \", arr2[i]);\n",
    "        }\n",
    "\n",
    "        Console.Write(\"\\nThe Odd elements are :\\n\");\n",
    "        for (i = 0; i < k; i++)\n",
    "        {\n",
    "            Console.Write(\"{0} \", arr3[i]);\n",
    "        }\n",
    "        Console.Write(\"\\n\\n\");\n",
    "    }\n",
    "}"
   ]
  },
  {
   "cell_type": "code",
   "execution_count": null,
   "id": "6f00427e-88fa-4889-bb2c-6cb52d7ced07",
   "metadata": {},
   "outputs": [],
   "source": [
    "#Q4 - OUTPUT\n",
    "Program to separate odd and even integers in separate arrays:\n",
    "------------------------------------------------------\n",
    "Input the number of elements to be stored in the array :5\n",
    "Kindly enter 5 elements in the array :\n",
    "element - 0 : 25\n",
    "element - 1 : 47\n",
    "element - 2 : 42\n",
    "element - 3 : 56\n",
    "element - 4 : 32\n",
    "\n",
    "The Even elements are :\n",
    "42 56 32\n",
    "The Odd elements are :\n",
    "25 47"
   ]
  },
  {
   "cell_type": "code",
   "execution_count": null,
   "id": "9190ffea",
   "metadata": {},
   "outputs": [],
   "source": [
    "#Q5 - To find if a point lies inside a rectangle we enter the rectangles co-ordinates and then point. Then we compare co-ordinate values and return boolean answer.\n",
    "\n",
    "\n",
    "using System;\n",
    "\n",
    "class GFG\n",
    "{\n",
    "\n",
    "    # function to find if given point lies inside a given rectangle or not.\n",
    "    static bool inside(int x1, int y1, int x2, int y2, int x, int y)\n",
    "    {\n",
    "        if (x > x1 && x < x2 &&\n",
    "            y > y1 && y < y2)\n",
    "            return true;\n",
    "\n",
    "        return false;\n",
    "    }\n",
    "\n",
    "    public static void Main()\n",
    "    {\n",
    "        #reading the co-ordinated for the rectangle.\n",
    "        Console.WriteLine(\"Kindly enter the four co-ordinates as bottom-left and top-right vertices points: \" + \"\\n\");\n",
    "        Console.WriteLine(\"Please enter number and hit enter to input next co-ordinate 1 by 1.\"+\"\\n\");\n",
    "        Console.Write(\"x1 = \");\n",
    "        int x1 = int.Parse(Console.ReadLine());\n",
    "        Console.Write(\"y1 = \");\n",
    "        int y1 = int.Parse(Console.ReadLine());\n",
    "        Console.Write(\"x2 = \");\n",
    "        int x2 = int.Parse(Console.ReadLine());\n",
    "        Console.Write(\"y2 = \");\n",
    "        int y2 = int.Parse(Console.ReadLine());\n",
    "        Console.WriteLine(\"\\n\" + \"The rectangle setup: \");\n",
    "        Console.WriteLine($\"4 co-ordinates are ({x1},{y1}) ; ({x2},{y1}) ; ({x2},{y2}) ; ({x1},{y2})\",x1,y1,x1,y2,x2,y2,x2,y1);\n",
    "        Console.WriteLine(\"\\n\");\n",
    "\n",
    "        #Input for comparison of the co-ordinates\n",
    "        Console.WriteLine(\"Now, Enter the point co-ordinates to test the if point lies inside the rectangle.\");\n",
    "        Console.Write(\"x = \");\n",
    "        int x = int.Parse(Console.ReadLine());\n",
    "        Console.Write(\"y = \");\n",
    "        int y = int.Parse(Console.ReadLine());\n",
    "        Console.WriteLine(\"\\n\");\n",
    "\n",
    "        # function call\n",
    "        if (inside(x1, y1, x2, y2, x, y))\n",
    "            Console.Write(\"Yes, the point lies inside the rectangle\"+\"\\n\");\n",
    "        else\n",
    "            Console.Write(\"No, the point lies outside the rectangle\"+\"\\n\");\n",
    "    }\n",
    "}"
   ]
  },
  {
   "cell_type": "code",
   "execution_count": null,
   "id": "ee8625ec-ec64-4b9a-b12c-de9aa39f9a79",
   "metadata": {},
   "outputs": [],
   "source": [
    "#Q5 OUTPUT\n",
    "#>> inside(1,1,0,0,2,3)\n",
    "Kindly enter the four co-ordinates as bottom-left and top-right vertices points:\n",
    "Please enter number and hit enter to input next co-ordinate 1 by 1.\n",
    "x1 = 0\n",
    "y1 = 0\n",
    "x2 = 2\n",
    "y2 = 3\n",
    "The rectangle setup:\n",
    "4 co-ordinates are (0,0) ; (2,0) ; (2,3) ; (0,3)\n",
    "\n",
    "\n",
    "Now, Enter the point co-ordinates to test the if point lies inside the rectangle.\n",
    "x = 1\n",
    "y = 1\n",
    "\n",
    "\n",
    "Yes, the point lies inside the rectangle\n",
    "\n",
    "#>>inside(-1,-1,0,0,2,3)\n",
    "Kindly enter the four co-ordinates as bottom-left and top-right vertices points:\n",
    "\n",
    "Please enter number and hit enter to input next co-ordinate 1 by 1.\n",
    "\n",
    "x1 = 0\n",
    "y1 = 0\n",
    "x2 = 2\n",
    "y2 = 3\n",
    "\n",
    "The rectangle setup:\n",
    "4 co-ordinates are (0,0) ; (2,0) ; (2,3) ; (0,3)\n",
    "\n",
    "\n",
    "Now, Enter the point co-ordinates to test the if point lies inside the rectangle.\n",
    "x = -1\n",
    "y = -1\n",
    "\n",
    "\n",
    "No, the point lies outside the rectangle"
   ]
  },
  {
   "cell_type": "code",
   "execution_count": 56,
   "id": "fe8b8888",
   "metadata": {},
   "outputs": [
    {
     "name": "stdin",
     "output_type": "stream",
     "text": [
      "Kindly input the message to convert to Pig Latin:  happy\n"
     ]
    },
    {
     "name": "stdout",
     "output_type": "stream",
     "text": [
      "appyhay\n"
     ]
    }
   ],
   "source": [
    "#Q6 - Pyhton getting the Pig Latin version of a string.\n",
    "words = input(\"Kindly input the message to convert to Pig Latin: \")\n",
    "word = words.split(\" \")\n",
    "vowels = ['a', 'e', 'i', 'o', 'u']\n",
    "def pig(word):\n",
    "    if word[0].lower() in vowels:\n",
    "        piglatin = word.lower() + \"way\"\n",
    "    else:\n",
    "        piglatin = word[1:] + word[0].lower() + \"ay\"\n",
    "\n",
    "        return piglatin\n",
    "print(pig(words))"
   ]
  },
  {
   "cell_type": "code",
   "execution_count": 40,
   "id": "f040efa0",
   "metadata": {},
   "outputs": [
    {
     "name": "stdout",
     "output_type": "stream",
     "text": [
      "Reading blood type of all the students\n",
      "Total number of students :  44\n",
      "Number of students with blood group AB :  13\n",
      "Number of students with blood group A :  15\n",
      "Number of students with blood group B :  1\n",
      "Number of students with blood group O :  15\n"
     ]
    }
   ],
   "source": [
    "#Q7 - Python getting the count for each type of blood group.\n",
    "print (\"Reading blood type of all the students\")\n",
    "bloodtypes = open(\"Bloodtype.txt\",'r') #need to change the path to the address of bloodtype txt file.\n",
    "lines = bloodtypes.read()                                      #bloodtype holds file but value inside file are read by lines\n",
    "lines=lines.split(\" \")                                         #splitting each blood group form spaces in the list.\n",
    "#print(bloodtypes)\n",
    "#print(type(lines))\n",
    "#print(lines)\n",
    "\n",
    "print(\"Total number of students : \",len(lines) - 1)\n",
    "ab,a,b,o=0,0,0,0\n",
    "for i in lines:\n",
    "    if i == \"AB\":\n",
    "        ab=ab+1;\n",
    "    if i == \"A\":\n",
    "        a=a+1;\n",
    "    if i == \"B\":\n",
    "        b=b+1\n",
    "    if i == \"O\":\n",
    "        o=o+1\n",
    "print(\"Number of students with blood group AB : \",ab)\n",
    "print(\"Number of students with blood group A : \",a)\n",
    "print(\"Number of students with blood group B : \",b)\n",
    "print(\"Number of students with blood group O : \",o)"
   ]
  },
  {
   "cell_type": "code",
   "execution_count": 76,
   "id": "6a53b693",
   "metadata": {},
   "outputs": [
    {
     "name": "stdout",
     "output_type": "stream",
     "text": [
      "Kindly enter the currency:\n"
     ]
    },
    {
     "name": "stdin",
     "output_type": "stream",
     "text": [
      " THB\n"
     ]
    },
    {
     "name": "stdout",
     "output_type": "stream",
     "text": [
      "\n",
      " Entered Currency  :   THB\n",
      "Enter the amount for conversion to USD :\n"
     ]
    },
    {
     "name": "stdin",
     "output_type": "stream",
     "text": [
      " 1\n"
     ]
    },
    {
     "name": "stdout",
     "output_type": "stream",
     "text": [
      "The amount in USD:  0.0313789\n"
     ]
    }
   ],
   "source": [
    "#Q8 Currency converter function\n",
    "print(\"Kindly enter the currency:\")\n",
    "currencyI = input()\n",
    "currency= currencyI.upper()\n",
    "print(\"\\n\",\"Entered Currency  :  \",currency)\n",
    "print(\"Enter the amount for conversion to USD :\")\n",
    "amt = input()\n",
    "amt=float(amt)\n",
    "def curconv(currency, value):\n",
    "    if currency == 'AUD':\n",
    "        equi = 1.0345157 * amt\n",
    "    if currency == 'CHF':\n",
    "        equi = 1.0237414 * amt\n",
    "    if currency == 'CNY':\n",
    "        equi = 0.1550176 * amt\n",
    "    if currency == 'DKK':\n",
    "        equi = 0.1651442 * amt\n",
    "    if currency == 'EUR':\n",
    "        equi = 1.2296544 * amt\n",
    "    if currency == 'GBP':\n",
    "        equi = 1.5550989 * amt\n",
    "    if currency == 'HKD':\n",
    "        equi = 0.1270207 * amt\n",
    "    if currency == 'INR':\n",
    "        equi = 0.0177643 * amt\n",
    "    if currency == 'JPY':\n",
    "        equi = 0.01241401 * amt\n",
    "    if currency == 'MXN':\n",
    "        equi = 0.0751848 * amt\n",
    "    if currency == 'MYR':\n",
    "        equi = 0.3145411 * amt\n",
    "    if currency == 'NOK':\n",
    "        equi = 0.1677063 * amt\n",
    "    if currency == 'NZD':\n",
    "        equi = 0.8003591 * amt\n",
    "    if currency == 'PHP':\n",
    "        equi = 0.0233234 * amt\n",
    "    if currency == 'SEK':\n",
    "        equi = 0.148269 * amt\n",
    "    if currency == 'SGD':\n",
    "        equi = 0.788871 * amt\n",
    "    if currency == 'THB':\n",
    "        equi = 0.0313789 * amt\n",
    "    return equi\n",
    "print(\"The amount in USD: \",curconv(currency,amt))"
   ]
  },
  {
   "cell_type": "code",
   "execution_count": 59,
   "id": "207336d9-9b8f-4835-9afb-b2e6c93d64f1",
   "metadata": {},
   "outputs": [
    {
     "ename": "TypeError",
     "evalue": "unsupported operand type(s) for +: 'int' and 'str'",
     "output_type": "error",
     "traceback": [
      "\u001b[1;31m---------------------------------------------------------------------------\u001b[0m",
      "\u001b[1;31mTypeError\u001b[0m                                 Traceback (most recent call last)",
      "Cell \u001b[1;32mIn[59], line 2\u001b[0m\n\u001b[0;32m      1\u001b[0m \u001b[38;5;66;03m#Q9 finding error\u001b[39;00m\n\u001b[1;32m----> 2\u001b[0m \u001b[38;5;241;43m6\u001b[39;49m\u001b[43m \u001b[49m\u001b[38;5;241;43m+\u001b[39;49m\u001b[43m \u001b[49m\u001b[38;5;124;43m'\u001b[39;49m\u001b[38;5;124;43ma\u001b[39;49m\u001b[38;5;124;43m'\u001b[39;49m\n",
      "\u001b[1;31mTypeError\u001b[0m: unsupported operand type(s) for +: 'int' and 'str'"
     ]
    }
   ],
   "source": [
    "#Q9 finding error\n",
    "6 + 'a'"
   ]
  },
  {
   "cell_type": "code",
   "execution_count": 60,
   "id": "5a10d2b1-9943-4df5-bda4-b9937aebc6a2",
   "metadata": {},
   "outputs": [
    {
     "ename": "IndexError",
     "evalue": "list index out of range",
     "output_type": "error",
     "traceback": [
      "\u001b[1;31m---------------------------------------------------------------------------\u001b[0m",
      "\u001b[1;31mIndexError\u001b[0m                                Traceback (most recent call last)",
      "Cell \u001b[1;32mIn[60], line 3\u001b[0m\n\u001b[0;32m      1\u001b[0m \u001b[38;5;66;03m#Q9 finding error\u001b[39;00m\n\u001b[0;32m      2\u001b[0m \u001b[38;5;28mlist\u001b[39m \u001b[38;5;241m=\u001b[39m [\u001b[38;5;241m1\u001b[39m,\u001b[38;5;241m2\u001b[39m,\u001b[38;5;241m3\u001b[39m,\u001b[38;5;241m4\u001b[39m,\u001b[38;5;241m5\u001b[39m,\u001b[38;5;241m6\u001b[39m,\u001b[38;5;241m7\u001b[39m,\u001b[38;5;241m8\u001b[39m,\u001b[38;5;241m9\u001b[39m,\u001b[38;5;241m10\u001b[39m]\n\u001b[1;32m----> 3\u001b[0m show \u001b[38;5;241m=\u001b[39m \u001b[38;5;28;43mlist\u001b[39;49m\u001b[43m[\u001b[49m\u001b[38;5;241;43m12\u001b[39;49m\u001b[43m]\u001b[49m\n\u001b[0;32m      4\u001b[0m \u001b[38;5;28mprint\u001b[39m(show)\n",
      "\u001b[1;31mIndexError\u001b[0m: list index out of range"
     ]
    }
   ],
   "source": [
    "#Q9 finding error\n",
    "list = [1,2,3,4,5,6,7,8,9,10]\n",
    "show = list[12]\n",
    "print(show)"
   ]
  },
  {
   "cell_type": "code",
   "execution_count": 29,
   "id": "68c92fa6-b2d1-4b24-b751-b8911302af4e",
   "metadata": {},
   "outputs": [
    {
     "ename": "ValueError",
     "evalue": "math domain error",
     "output_type": "error",
     "traceback": [
      "\u001b[1;31m---------------------------------------------------------------------------\u001b[0m",
      "\u001b[1;31mValueError\u001b[0m                                Traceback (most recent call last)",
      "Cell \u001b[1;32mIn[29], line 2\u001b[0m\n\u001b[0;32m      1\u001b[0m \u001b[38;5;28;01mimport\u001b[39;00m \u001b[38;5;21;01mmath\u001b[39;00m\n\u001b[1;32m----> 2\u001b[0m \u001b[43mmath\u001b[49m\u001b[38;5;241;43m.\u001b[39;49m\u001b[43msqrt\u001b[49m\u001b[43m(\u001b[49m\u001b[38;5;241;43m-\u001b[39;49m\u001b[38;5;241;43m1.0\u001b[39;49m\u001b[43m)\u001b[49m\n",
      "\u001b[1;31mValueError\u001b[0m: math domain error"
     ]
    }
   ],
   "source": [
    "#Q9 finding error\n",
    "import math\n",
    "math.sqrt(-1.0)\n"
   ]
  },
  {
   "cell_type": "code",
   "execution_count": 30,
   "id": "d8afceaa-c217-4aee-89f4-1e6a146e92b2",
   "metadata": {},
   "outputs": [
    {
     "ename": "NameError",
     "evalue": "name 'x' is not defined",
     "output_type": "error",
     "traceback": [
      "\u001b[1;31m---------------------------------------------------------------------------\u001b[0m",
      "\u001b[1;31mNameError\u001b[0m                                 Traceback (most recent call last)",
      "Cell \u001b[1;32mIn[30], line 2\u001b[0m\n\u001b[0;32m      1\u001b[0m \u001b[38;5;28mstr\u001b[39m \u001b[38;5;241m=\u001b[39m \u001b[38;5;124m'\u001b[39m\u001b[38;5;124mData Programming\u001b[39m\u001b[38;5;124m'\u001b[39m\n\u001b[1;32m----> 2\u001b[0m \u001b[38;5;28mprint\u001b[39m(\u001b[43mx\u001b[49m)\n",
      "\u001b[1;31mNameError\u001b[0m: name 'x' is not defined"
     ]
    }
   ],
   "source": [
    "#Q9 finding error\n",
    "str = 'Data Programming'\n",
    "print(x)"
   ]
  },
  {
   "cell_type": "code",
   "execution_count": 31,
   "id": "8cbd29df-ea6e-4834-a40d-913b42d6723c",
   "metadata": {},
   "outputs": [
    {
     "ename": "FileNotFoundError",
     "evalue": "[Errno 2] No such file or directory: 'dataprogramming.txt'",
     "output_type": "error",
     "traceback": [
      "\u001b[1;31m---------------------------------------------------------------------------\u001b[0m",
      "\u001b[1;31mFileNotFoundError\u001b[0m                         Traceback (most recent call last)",
      "Cell \u001b[1;32mIn[31], line 1\u001b[0m\n\u001b[1;32m----> 1\u001b[0m f \u001b[38;5;241m=\u001b[39m \u001b[38;5;28;43mopen\u001b[39;49m\u001b[43m(\u001b[49m\u001b[38;5;124;43m\"\u001b[39;49m\u001b[38;5;124;43mdataprogramming.txt\u001b[39;49m\u001b[38;5;124;43m\"\u001b[39;49m\u001b[43m)\u001b[49m\n",
      "File \u001b[1;32mE:\\Anaconda\\lib\\site-packages\\IPython\\core\\interactiveshell.py:282\u001b[0m, in \u001b[0;36m_modified_open\u001b[1;34m(file, *args, **kwargs)\u001b[0m\n\u001b[0;32m    275\u001b[0m \u001b[38;5;28;01mif\u001b[39;00m file \u001b[38;5;129;01min\u001b[39;00m {\u001b[38;5;241m0\u001b[39m, \u001b[38;5;241m1\u001b[39m, \u001b[38;5;241m2\u001b[39m}:\n\u001b[0;32m    276\u001b[0m     \u001b[38;5;28;01mraise\u001b[39;00m \u001b[38;5;167;01mValueError\u001b[39;00m(\n\u001b[0;32m    277\u001b[0m         \u001b[38;5;124mf\u001b[39m\u001b[38;5;124m\"\u001b[39m\u001b[38;5;124mIPython won\u001b[39m\u001b[38;5;124m'\u001b[39m\u001b[38;5;124mt let you open fd=\u001b[39m\u001b[38;5;132;01m{\u001b[39;00mfile\u001b[38;5;132;01m}\u001b[39;00m\u001b[38;5;124m by default \u001b[39m\u001b[38;5;124m\"\u001b[39m\n\u001b[0;32m    278\u001b[0m         \u001b[38;5;124m\"\u001b[39m\u001b[38;5;124mas it is likely to crash IPython. If you know what you are doing, \u001b[39m\u001b[38;5;124m\"\u001b[39m\n\u001b[0;32m    279\u001b[0m         \u001b[38;5;124m\"\u001b[39m\u001b[38;5;124myou can use builtins\u001b[39m\u001b[38;5;124m'\u001b[39m\u001b[38;5;124m open.\u001b[39m\u001b[38;5;124m\"\u001b[39m\n\u001b[0;32m    280\u001b[0m     )\n\u001b[1;32m--> 282\u001b[0m \u001b[38;5;28;01mreturn\u001b[39;00m io_open(file, \u001b[38;5;241m*\u001b[39margs, \u001b[38;5;241m*\u001b[39m\u001b[38;5;241m*\u001b[39mkwargs)\n",
      "\u001b[1;31mFileNotFoundError\u001b[0m: [Errno 2] No such file or directory: 'dataprogramming.txt'"
     ]
    }
   ],
   "source": [
    "#Q9 finding error\n",
    "f = open(\"dataprogramming.txt\")"
   ]
  },
  {
   "cell_type": "code",
   "execution_count": 94,
   "id": "ee1f30d5",
   "metadata": {},
   "outputs": [
    {
     "name": "stdout",
     "output_type": "stream",
     "text": [
      "Input a sentence to get the frequency of each alphabet : \n"
     ]
    },
    {
     "name": "stdin",
     "output_type": "stream",
     "text": [
      " hi how are you?\n"
     ]
    },
    {
     "name": "stdout",
     "output_type": "stream",
     "text": [
      "[1, 0, 0, 0, 1, 0, 0, 2, 1, 0, 0, 0, 0, 0, 2, 0, 0, 1, 0, 0, 1, 0, 1, 0, 1, 0]\n"
     ]
    }
   ],
   "source": [
    "#Q10 - Finding frequency of each alphabet in the input string.\n",
    "import re\n",
    "\n",
    "print(\"Input a sentence to get the frequency of each alphabet : \")\n",
    "string = input()\n",
    "def freq(string):\n",
    "    def remove_spaces(string):\n",
    "        return string.replace(\" \", \"\")\n",
    "\n",
    "    def remove_punctuation(string):\n",
    "        punctuation = r\"[^\\w\\s]\"\n",
    "        string1 = re.sub(punctuation, \"\", string)\n",
    "        return string1\n",
    "\n",
    "  #letters = \"This is a test string.\"\n",
    "\n",
    "    Nospace = remove_spaces(string)\n",
    "    NoSpace_punct = remove_punctuation(Nospace)\n",
    "    clean_string = NoSpace_punct.lower()\n",
    "    alphabet_string = \"abcdefghijklmnopqrstuvwxyz\"\n",
    "    counter = [0] * 26\n",
    "    #print(clean_string)\n",
    "\n",
    "    for char in clean_string:\n",
    "        for i, alphabet_char in enumerate(alphabet_string):\n",
    "            if alphabet_char == char:\n",
    "                counter[i] += 1\n",
    "    return counter\n",
    "print(freq(string))"
   ]
  },
  {
   "cell_type": "code",
   "execution_count": null,
   "id": "57aa30e8",
   "metadata": {},
   "outputs": [],
   "source": []
  },
  {
   "cell_type": "code",
   "execution_count": null,
   "id": "5b035858",
   "metadata": {},
   "outputs": [],
   "source": []
  },
  {
   "cell_type": "code",
   "execution_count": null,
   "id": "f211b23e-f7f8-47ff-9a11-fc09bead69f8",
   "metadata": {},
   "outputs": [],
   "source": []
  }
 ],
 "metadata": {
  "kernelspec": {
   "display_name": "Python 3 (ipykernel)",
   "language": "python",
   "name": "python3"
  },
  "language_info": {
   "codemirror_mode": {
    "name": "ipython",
    "version": 3
   },
   "file_extension": ".py",
   "mimetype": "text/x-python",
   "name": "python",
   "nbconvert_exporter": "python",
   "pygments_lexer": "ipython3",
   "version": "3.10.9"
  }
 },
 "nbformat": 4,
 "nbformat_minor": 5
}
